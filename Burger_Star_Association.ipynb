{
  "nbformat": 4,
  "nbformat_minor": 0,
  "metadata": {
    "kernelspec": {
      "name": "python3",
      "display_name": "Python 3"
    },
    "language_info": {
      "codemirror_mode": {
        "name": "ipython",
        "version": 3
      },
      "file_extension": ".py",
      "mimetype": "text/x-python",
      "name": "python",
      "nbconvert_exporter": "python",
      "pygments_lexer": "ipython3",
      "version": "3.6.4"
    },
    "colab": {
      "name": "Burger Star - Association.ipynb",
      "version": "0.3.2",
      "provenance": [],
      "collapsed_sections": []
    },
    "accelerator": "GPU"
  },
  "cells": [
    {
      "cell_type": "code",
      "metadata": {
        "id": "6CgtyGXs6Edm",
        "colab_type": "code",
        "outputId": "3404ec64-a49a-456a-9f31-c79f5b3f6a63",
        "colab": {
          "base_uri": "https://localhost:8080/",
          "height": 122
        }
      },
      "source": [
        "from google.colab import drive\n",
        "drive.mount('/content/drive')"
      ],
      "execution_count": 0,
      "outputs": [
        {
          "output_type": "stream",
          "text": [
            "Go to this URL in a browser: https://accounts.google.com/o/oauth2/auth?client_id=947318989803-6bn6qk8qdgf4n4g3pfee6491hc0brc4i.apps.googleusercontent.com&redirect_uri=urn%3Aietf%3Awg%3Aoauth%3A2.0%3Aoob&scope=email%20https%3A%2F%2Fwww.googleapis.com%2Fauth%2Fdocs.test%20https%3A%2F%2Fwww.googleapis.com%2Fauth%2Fdrive%20https%3A%2F%2Fwww.googleapis.com%2Fauth%2Fdrive.photos.readonly%20https%3A%2F%2Fwww.googleapis.com%2Fauth%2Fpeopleapi.readonly&response_type=code\n",
            "\n",
            "Enter your authorization code:\n",
            "··········\n",
            "Mounted at /content/drive\n"
          ],
          "name": "stdout"
        }
      ]
    },
    {
      "cell_type": "code",
      "metadata": {
        "id": "z5kECpCj9R1T",
        "colab_type": "code",
        "outputId": "2a10bd97-9834-4fff-ac74-aa05e30597c2",
        "colab": {
          "base_uri": "https://localhost:8080/",
          "height": 170
        }
      },
      "source": [
        "pip install apyori"
      ],
      "execution_count": 0,
      "outputs": [
        {
          "output_type": "stream",
          "text": [
            "Collecting apyori\n",
            "  Downloading https://files.pythonhosted.org/packages/25/fd/0561e2dd29aeed544bad2d1991636e38700cdaef9530490b863741f35295/apyori-1.1.1.tar.gz\n",
            "Building wheels for collected packages: apyori\n",
            "  Building wheel for apyori (setup.py) ... \u001b[?25l\u001b[?25hdone\n",
            "  Created wheel for apyori: filename=apyori-1.1.1-cp36-none-any.whl size=5972 sha256=e6fe96cea6ae7efc9449a64357c55f1279c9894a996ac6a7e3403f2cfb47d364\n",
            "  Stored in directory: /root/.cache/pip/wheels/7b/2a/35/c0c3749c1a36d4f454ea22d8396e1b854b86340d63cbbb7949\n",
            "Successfully built apyori\n",
            "Installing collected packages: apyori\n",
            "Successfully installed apyori-1.1.1\n"
          ],
          "name": "stdout"
        }
      ]
    },
    {
      "cell_type": "code",
      "metadata": {
        "id": "saCx8WRD6Hrq",
        "colab_type": "code",
        "colab": {}
      },
      "source": [
        "import pandas as pd\n",
        "from apyori import apriori\n",
        "import matplotlib.pyplot as plt\n",
        "import seaborn as sns\n",
        "import scipy.stats\n",
        "sns.set(style=\"darkgrid\")\n",
        "%matplotlib inline"
      ],
      "execution_count": 0,
      "outputs": []
    },
    {
      "cell_type": "code",
      "metadata": {
        "id": "bh1TuEpM6Edr",
        "colab_type": "code",
        "outputId": "d343145e-aa53-4bba-926b-c38da2361d83",
        "colab": {
          "base_uri": "https://localhost:8080/",
          "height": 204
        }
      },
      "source": [
        "df = pd.read_csv('/content/drive/My Drive/burger-star.csv')\n",
        "df.head()"
      ],
      "execution_count": 0,
      "outputs": [
        {
          "output_type": "execute_result",
          "data": {
            "text/html": [
              "<div>\n",
              "<style scoped>\n",
              "    .dataframe tbody tr th:only-of-type {\n",
              "        vertical-align: middle;\n",
              "    }\n",
              "\n",
              "    .dataframe tbody tr th {\n",
              "        vertical-align: top;\n",
              "    }\n",
              "\n",
              "    .dataframe thead th {\n",
              "        text-align: right;\n",
              "    }\n",
              "</style>\n",
              "<table border=\"1\" class=\"dataframe\">\n",
              "  <thead>\n",
              "    <tr style=\"text-align: right;\">\n",
              "      <th></th>\n",
              "      <th>Timestamp</th>\n",
              "      <th>Type Burger</th>\n",
              "      <th>Code Burger</th>\n",
              "      <th>Amount Burger</th>\n",
              "      <th>Type Drink</th>\n",
              "      <th>Code Drink</th>\n",
              "      <th>Amount Drink</th>\n",
              "      <th>Gender</th>\n",
              "      <th>Payment</th>\n",
              "    </tr>\n",
              "  </thead>\n",
              "  <tbody>\n",
              "    <tr>\n",
              "      <th>0</th>\n",
              "      <td>10:01</td>\n",
              "      <td>Beef burger</td>\n",
              "      <td>1</td>\n",
              "      <td>6</td>\n",
              "      <td>Mineral water</td>\n",
              "      <td>1</td>\n",
              "      <td>3</td>\n",
              "      <td>1</td>\n",
              "      <td>DANA</td>\n",
              "    </tr>\n",
              "    <tr>\n",
              "      <th>1</th>\n",
              "      <td>10:04</td>\n",
              "      <td>Cheese burger</td>\n",
              "      <td>3</td>\n",
              "      <td>12</td>\n",
              "      <td>Coke</td>\n",
              "      <td>2</td>\n",
              "      <td>10</td>\n",
              "      <td>0</td>\n",
              "      <td>DANA</td>\n",
              "    </tr>\n",
              "    <tr>\n",
              "      <th>2</th>\n",
              "      <td>10:05</td>\n",
              "      <td>Double cheese burger</td>\n",
              "      <td>4</td>\n",
              "      <td>10</td>\n",
              "      <td>Mineral water</td>\n",
              "      <td>1</td>\n",
              "      <td>5</td>\n",
              "      <td>0</td>\n",
              "      <td>LINK AJA</td>\n",
              "    </tr>\n",
              "    <tr>\n",
              "      <th>3</th>\n",
              "      <td>10:06</td>\n",
              "      <td>Chicken burger</td>\n",
              "      <td>2</td>\n",
              "      <td>9</td>\n",
              "      <td>Coffe</td>\n",
              "      <td>3</td>\n",
              "      <td>9</td>\n",
              "      <td>0</td>\n",
              "      <td>DANA</td>\n",
              "    </tr>\n",
              "    <tr>\n",
              "      <th>4</th>\n",
              "      <td>10:07</td>\n",
              "      <td>Cheese burger</td>\n",
              "      <td>3</td>\n",
              "      <td>11</td>\n",
              "      <td>Coke</td>\n",
              "      <td>2</td>\n",
              "      <td>3</td>\n",
              "      <td>1</td>\n",
              "      <td>DANA</td>\n",
              "    </tr>\n",
              "  </tbody>\n",
              "</table>\n",
              "</div>"
            ],
            "text/plain": [
              "  Timestamp           Type Burger  Code Burger  ...  Amount Drink Gender   Payment\n",
              "0     10:01           Beef burger            1  ...             3      1      DANA\n",
              "1     10:04         Cheese burger            3  ...            10      0      DANA\n",
              "2     10:05  Double cheese burger            4  ...             5      0  LINK AJA\n",
              "3     10:06        Chicken burger            2  ...             9      0      DANA\n",
              "4     10:07         Cheese burger            3  ...             3      1      DANA\n",
              "\n",
              "[5 rows x 9 columns]"
            ]
          },
          "metadata": {
            "tags": []
          },
          "execution_count": 100
        }
      ]
    },
    {
      "cell_type": "code",
      "metadata": {
        "id": "27rS1c4Q6Edw",
        "colab_type": "code",
        "outputId": "7b14e4d4-2777-4d06-b5ea-866709962d34",
        "colab": {
          "base_uri": "https://localhost:8080/",
          "height": 204
        }
      },
      "source": [
        "df.tail()"
      ],
      "execution_count": 0,
      "outputs": [
        {
          "output_type": "execute_result",
          "data": {
            "text/html": [
              "<div>\n",
              "<style scoped>\n",
              "    .dataframe tbody tr th:only-of-type {\n",
              "        vertical-align: middle;\n",
              "    }\n",
              "\n",
              "    .dataframe tbody tr th {\n",
              "        vertical-align: top;\n",
              "    }\n",
              "\n",
              "    .dataframe thead th {\n",
              "        text-align: right;\n",
              "    }\n",
              "</style>\n",
              "<table border=\"1\" class=\"dataframe\">\n",
              "  <thead>\n",
              "    <tr style=\"text-align: right;\">\n",
              "      <th></th>\n",
              "      <th>Timestamp</th>\n",
              "      <th>Type Burger</th>\n",
              "      <th>Code Burger</th>\n",
              "      <th>Amount Burger</th>\n",
              "      <th>Type Drink</th>\n",
              "      <th>Code Drink</th>\n",
              "      <th>Amount Drink</th>\n",
              "      <th>Gender</th>\n",
              "      <th>Payment</th>\n",
              "    </tr>\n",
              "  </thead>\n",
              "  <tbody>\n",
              "    <tr>\n",
              "      <th>307</th>\n",
              "      <td>21:47</td>\n",
              "      <td>Beef burger</td>\n",
              "      <td>1</td>\n",
              "      <td>8</td>\n",
              "      <td>Mineral water</td>\n",
              "      <td>1</td>\n",
              "      <td>10</td>\n",
              "      <td>0</td>\n",
              "      <td>TUNAI</td>\n",
              "    </tr>\n",
              "    <tr>\n",
              "      <th>308</th>\n",
              "      <td>21:50</td>\n",
              "      <td>Beef burger</td>\n",
              "      <td>1</td>\n",
              "      <td>7</td>\n",
              "      <td>Mineral water</td>\n",
              "      <td>1</td>\n",
              "      <td>5</td>\n",
              "      <td>1</td>\n",
              "      <td>TUNAI</td>\n",
              "    </tr>\n",
              "    <tr>\n",
              "      <th>309</th>\n",
              "      <td>21:53</td>\n",
              "      <td>Beef burger</td>\n",
              "      <td>1</td>\n",
              "      <td>11</td>\n",
              "      <td>Mineral water</td>\n",
              "      <td>1</td>\n",
              "      <td>9</td>\n",
              "      <td>0</td>\n",
              "      <td>DANA</td>\n",
              "    </tr>\n",
              "    <tr>\n",
              "      <th>310</th>\n",
              "      <td>21:55</td>\n",
              "      <td>Beef burger</td>\n",
              "      <td>1</td>\n",
              "      <td>2</td>\n",
              "      <td>Coffe</td>\n",
              "      <td>3</td>\n",
              "      <td>2</td>\n",
              "      <td>0</td>\n",
              "      <td>DANA</td>\n",
              "    </tr>\n",
              "    <tr>\n",
              "      <th>311</th>\n",
              "      <td>21:57</td>\n",
              "      <td>Beef burger</td>\n",
              "      <td>1</td>\n",
              "      <td>1</td>\n",
              "      <td>None</td>\n",
              "      <td>0</td>\n",
              "      <td>1</td>\n",
              "      <td>0</td>\n",
              "      <td>TUNAI</td>\n",
              "    </tr>\n",
              "  </tbody>\n",
              "</table>\n",
              "</div>"
            ],
            "text/plain": [
              "    Timestamp  Type Burger  Code Burger  ...  Amount Drink Gender  Payment\n",
              "307     21:47  Beef burger            1  ...            10      0    TUNAI\n",
              "308     21:50  Beef burger            1  ...             5      1    TUNAI\n",
              "309     21:53  Beef burger            1  ...             9      0     DANA\n",
              "310     21:55  Beef burger            1  ...             2      0     DANA\n",
              "311     21:57  Beef burger            1  ...             1      0    TUNAI\n",
              "\n",
              "[5 rows x 9 columns]"
            ]
          },
          "metadata": {
            "tags": []
          },
          "execution_count": 101
        }
      ]
    },
    {
      "cell_type": "code",
      "metadata": {
        "id": "FkNtXkG26Ed1",
        "colab_type": "code",
        "outputId": "52a4355a-48d5-4018-bb05-92ccb8448213",
        "colab": {
          "base_uri": "https://localhost:8080/",
          "height": 255
        }
      },
      "source": [
        "df.info()"
      ],
      "execution_count": 0,
      "outputs": [
        {
          "output_type": "stream",
          "text": [
            "<class 'pandas.core.frame.DataFrame'>\n",
            "RangeIndex: 312 entries, 0 to 311\n",
            "Data columns (total 9 columns):\n",
            "Timestamp        312 non-null object\n",
            "Type Burger      312 non-null object\n",
            "Code Burger      312 non-null int64\n",
            "Amount Burger    312 non-null int64\n",
            "Type Drink       312 non-null object\n",
            "Code Drink       312 non-null int64\n",
            "Amount Drink     312 non-null int64\n",
            "Gender           312 non-null int64\n",
            "Payment          312 non-null object\n",
            "dtypes: int64(5), object(4)\n",
            "memory usage: 22.0+ KB\n"
          ],
          "name": "stdout"
        }
      ]
    },
    {
      "cell_type": "code",
      "metadata": {
        "id": "GkuVAKNPjRBb",
        "colab_type": "code",
        "outputId": "e6f39ef9-5373-40a4-d6d0-6403610a5234",
        "colab": {
          "base_uri": "https://localhost:8080/",
          "height": 187
        }
      },
      "source": [
        "df.isnull().sum()"
      ],
      "execution_count": 0,
      "outputs": [
        {
          "output_type": "execute_result",
          "data": {
            "text/plain": [
              "Timestamp        0\n",
              "Type Burger      0\n",
              "Code Burger      0\n",
              "Amount Burger    0\n",
              "Type Drink       0\n",
              "Code Drink       0\n",
              "Amount Drink     0\n",
              "Gender           0\n",
              "Payment          0\n",
              "dtype: int64"
            ]
          },
          "metadata": {
            "tags": []
          },
          "execution_count": 103
        }
      ]
    },
    {
      "cell_type": "code",
      "metadata": {
        "id": "hDs8xvJLjxxA",
        "colab_type": "code",
        "outputId": "d97b18cb-6b3f-4d3b-f8b7-ab9bed0e1e12",
        "colab": {
          "base_uri": "https://localhost:8080/",
          "height": 34
        }
      },
      "source": [
        "df.shape"
      ],
      "execution_count": 0,
      "outputs": [
        {
          "output_type": "execute_result",
          "data": {
            "text/plain": [
              "(312, 9)"
            ]
          },
          "metadata": {
            "tags": []
          },
          "execution_count": 104
        }
      ]
    },
    {
      "cell_type": "code",
      "metadata": {
        "id": "2akTJK_AjkqW",
        "colab_type": "code",
        "colab": {}
      },
      "source": [
        "df = df.drop(columns=[\"Code Burger\", \"Code Drink\"])"
      ],
      "execution_count": 0,
      "outputs": []
    },
    {
      "cell_type": "code",
      "metadata": {
        "id": "M8X67ESvI-Sd",
        "colab_type": "code",
        "outputId": "e9af6c6e-d7f7-4ac9-936d-39286637d68a",
        "colab": {
          "base_uri": "https://localhost:8080/",
          "height": 34
        }
      },
      "source": [
        "df.shape"
      ],
      "execution_count": 0,
      "outputs": [
        {
          "output_type": "execute_result",
          "data": {
            "text/plain": [
              "(312, 7)"
            ]
          },
          "metadata": {
            "tags": []
          },
          "execution_count": 106
        }
      ]
    },
    {
      "cell_type": "code",
      "metadata": {
        "id": "C1DUmIk46Ed5",
        "colab_type": "code",
        "colab": {}
      },
      "source": [
        "df['Hours'] = df['Timestamp'].str[:2] "
      ],
      "execution_count": 0,
      "outputs": []
    },
    {
      "cell_type": "code",
      "metadata": {
        "id": "kRwl1BpZ6Ed-",
        "colab_type": "code",
        "outputId": "3338b32e-60a0-441e-e01f-a6f04db15513",
        "colab": {
          "base_uri": "https://localhost:8080/",
          "height": 204
        }
      },
      "source": [
        "df.head()"
      ],
      "execution_count": 0,
      "outputs": [
        {
          "output_type": "execute_result",
          "data": {
            "text/html": [
              "<div>\n",
              "<style scoped>\n",
              "    .dataframe tbody tr th:only-of-type {\n",
              "        vertical-align: middle;\n",
              "    }\n",
              "\n",
              "    .dataframe tbody tr th {\n",
              "        vertical-align: top;\n",
              "    }\n",
              "\n",
              "    .dataframe thead th {\n",
              "        text-align: right;\n",
              "    }\n",
              "</style>\n",
              "<table border=\"1\" class=\"dataframe\">\n",
              "  <thead>\n",
              "    <tr style=\"text-align: right;\">\n",
              "      <th></th>\n",
              "      <th>Timestamp</th>\n",
              "      <th>Type Burger</th>\n",
              "      <th>Code Burger</th>\n",
              "      <th>Amount Burger</th>\n",
              "      <th>Type Drink</th>\n",
              "      <th>Code Drink</th>\n",
              "      <th>Amount Drink</th>\n",
              "      <th>Gender</th>\n",
              "      <th>Payment</th>\n",
              "      <th>Hours</th>\n",
              "    </tr>\n",
              "  </thead>\n",
              "  <tbody>\n",
              "    <tr>\n",
              "      <th>0</th>\n",
              "      <td>10:01</td>\n",
              "      <td>Beef burger</td>\n",
              "      <td>1</td>\n",
              "      <td>6</td>\n",
              "      <td>Mineral water</td>\n",
              "      <td>1</td>\n",
              "      <td>3</td>\n",
              "      <td>1</td>\n",
              "      <td>DANA</td>\n",
              "      <td>10</td>\n",
              "    </tr>\n",
              "    <tr>\n",
              "      <th>1</th>\n",
              "      <td>10:04</td>\n",
              "      <td>Cheese burger</td>\n",
              "      <td>3</td>\n",
              "      <td>12</td>\n",
              "      <td>Coke</td>\n",
              "      <td>2</td>\n",
              "      <td>10</td>\n",
              "      <td>0</td>\n",
              "      <td>DANA</td>\n",
              "      <td>10</td>\n",
              "    </tr>\n",
              "    <tr>\n",
              "      <th>2</th>\n",
              "      <td>10:05</td>\n",
              "      <td>Double cheese burger</td>\n",
              "      <td>4</td>\n",
              "      <td>10</td>\n",
              "      <td>Mineral water</td>\n",
              "      <td>1</td>\n",
              "      <td>5</td>\n",
              "      <td>0</td>\n",
              "      <td>LINK AJA</td>\n",
              "      <td>10</td>\n",
              "    </tr>\n",
              "    <tr>\n",
              "      <th>3</th>\n",
              "      <td>10:06</td>\n",
              "      <td>Chicken burger</td>\n",
              "      <td>2</td>\n",
              "      <td>9</td>\n",
              "      <td>Coffe</td>\n",
              "      <td>3</td>\n",
              "      <td>9</td>\n",
              "      <td>0</td>\n",
              "      <td>DANA</td>\n",
              "      <td>10</td>\n",
              "    </tr>\n",
              "    <tr>\n",
              "      <th>4</th>\n",
              "      <td>10:07</td>\n",
              "      <td>Cheese burger</td>\n",
              "      <td>3</td>\n",
              "      <td>11</td>\n",
              "      <td>Coke</td>\n",
              "      <td>2</td>\n",
              "      <td>3</td>\n",
              "      <td>1</td>\n",
              "      <td>DANA</td>\n",
              "      <td>10</td>\n",
              "    </tr>\n",
              "  </tbody>\n",
              "</table>\n",
              "</div>"
            ],
            "text/plain": [
              "  Timestamp           Type Burger  Code Burger  ...  Gender   Payment  Hours\n",
              "0     10:01           Beef burger            1  ...       1      DANA     10\n",
              "1     10:04         Cheese burger            3  ...       0      DANA     10\n",
              "2     10:05  Double cheese burger            4  ...       0  LINK AJA     10\n",
              "3     10:06        Chicken burger            2  ...       0      DANA     10\n",
              "4     10:07         Cheese burger            3  ...       1      DANA     10\n",
              "\n",
              "[5 rows x 10 columns]"
            ]
          },
          "metadata": {
            "tags": []
          },
          "execution_count": 76
        }
      ]
    },
    {
      "cell_type": "code",
      "metadata": {
        "id": "yy9SBO036EeD",
        "colab_type": "code",
        "outputId": "66d23aaa-bb49-4643-eb57-0afa9873b056",
        "colab": {
          "base_uri": "https://localhost:8080/",
          "height": 204
        }
      },
      "source": [
        "df_10 = df[df[\"Hours\"] == \"10\"]\n",
        "df_10.head()"
      ],
      "execution_count": 0,
      "outputs": [
        {
          "output_type": "execute_result",
          "data": {
            "text/html": [
              "<div>\n",
              "<style scoped>\n",
              "    .dataframe tbody tr th:only-of-type {\n",
              "        vertical-align: middle;\n",
              "    }\n",
              "\n",
              "    .dataframe tbody tr th {\n",
              "        vertical-align: top;\n",
              "    }\n",
              "\n",
              "    .dataframe thead th {\n",
              "        text-align: right;\n",
              "    }\n",
              "</style>\n",
              "<table border=\"1\" class=\"dataframe\">\n",
              "  <thead>\n",
              "    <tr style=\"text-align: right;\">\n",
              "      <th></th>\n",
              "      <th>Timestamp</th>\n",
              "      <th>Type Burger</th>\n",
              "      <th>Code Burger</th>\n",
              "      <th>Amount Burger</th>\n",
              "      <th>Type Drink</th>\n",
              "      <th>Code Drink</th>\n",
              "      <th>Amount Drink</th>\n",
              "      <th>Gender</th>\n",
              "      <th>Payment</th>\n",
              "      <th>Hours</th>\n",
              "    </tr>\n",
              "  </thead>\n",
              "  <tbody>\n",
              "    <tr>\n",
              "      <th>0</th>\n",
              "      <td>10:01</td>\n",
              "      <td>Beef burger</td>\n",
              "      <td>1</td>\n",
              "      <td>6</td>\n",
              "      <td>Mineral water</td>\n",
              "      <td>1</td>\n",
              "      <td>3</td>\n",
              "      <td>1</td>\n",
              "      <td>DANA</td>\n",
              "      <td>10</td>\n",
              "    </tr>\n",
              "    <tr>\n",
              "      <th>1</th>\n",
              "      <td>10:04</td>\n",
              "      <td>Cheese burger</td>\n",
              "      <td>3</td>\n",
              "      <td>12</td>\n",
              "      <td>Coke</td>\n",
              "      <td>2</td>\n",
              "      <td>10</td>\n",
              "      <td>0</td>\n",
              "      <td>DANA</td>\n",
              "      <td>10</td>\n",
              "    </tr>\n",
              "    <tr>\n",
              "      <th>2</th>\n",
              "      <td>10:05</td>\n",
              "      <td>Double cheese burger</td>\n",
              "      <td>4</td>\n",
              "      <td>10</td>\n",
              "      <td>Mineral water</td>\n",
              "      <td>1</td>\n",
              "      <td>5</td>\n",
              "      <td>0</td>\n",
              "      <td>LINK AJA</td>\n",
              "      <td>10</td>\n",
              "    </tr>\n",
              "    <tr>\n",
              "      <th>3</th>\n",
              "      <td>10:06</td>\n",
              "      <td>Chicken burger</td>\n",
              "      <td>2</td>\n",
              "      <td>9</td>\n",
              "      <td>Coffe</td>\n",
              "      <td>3</td>\n",
              "      <td>9</td>\n",
              "      <td>0</td>\n",
              "      <td>DANA</td>\n",
              "      <td>10</td>\n",
              "    </tr>\n",
              "    <tr>\n",
              "      <th>4</th>\n",
              "      <td>10:07</td>\n",
              "      <td>Cheese burger</td>\n",
              "      <td>3</td>\n",
              "      <td>11</td>\n",
              "      <td>Coke</td>\n",
              "      <td>2</td>\n",
              "      <td>3</td>\n",
              "      <td>1</td>\n",
              "      <td>DANA</td>\n",
              "      <td>10</td>\n",
              "    </tr>\n",
              "  </tbody>\n",
              "</table>\n",
              "</div>"
            ],
            "text/plain": [
              "  Timestamp           Type Burger  Code Burger  ...  Gender   Payment  Hours\n",
              "0     10:01           Beef burger            1  ...       1      DANA     10\n",
              "1     10:04         Cheese burger            3  ...       0      DANA     10\n",
              "2     10:05  Double cheese burger            4  ...       0  LINK AJA     10\n",
              "3     10:06        Chicken burger            2  ...       0      DANA     10\n",
              "4     10:07         Cheese burger            3  ...       1      DANA     10\n",
              "\n",
              "[5 rows x 10 columns]"
            ]
          },
          "metadata": {
            "tags": []
          },
          "execution_count": 77
        }
      ]
    },
    {
      "cell_type": "code",
      "metadata": {
        "id": "EBWXvx5yM_yc",
        "colab_type": "code",
        "colab": {}
      },
      "source": [
        "df3 = df[['Type Burger','Type Drink','Hours']]"
      ],
      "execution_count": 0,
      "outputs": []
    },
    {
      "cell_type": "code",
      "metadata": {
        "id": "nIUbuwFeWGX-",
        "colab_type": "code",
        "outputId": "fa3fdf05-2d72-4dd6-9e13-62af622f1751",
        "colab": {
          "base_uri": "https://localhost:8080/",
          "height": 204
        }
      },
      "source": [
        "df3.head()"
      ],
      "execution_count": 0,
      "outputs": [
        {
          "output_type": "execute_result",
          "data": {
            "text/html": [
              "<div>\n",
              "<style scoped>\n",
              "    .dataframe tbody tr th:only-of-type {\n",
              "        vertical-align: middle;\n",
              "    }\n",
              "\n",
              "    .dataframe tbody tr th {\n",
              "        vertical-align: top;\n",
              "    }\n",
              "\n",
              "    .dataframe thead th {\n",
              "        text-align: right;\n",
              "    }\n",
              "</style>\n",
              "<table border=\"1\" class=\"dataframe\">\n",
              "  <thead>\n",
              "    <tr style=\"text-align: right;\">\n",
              "      <th></th>\n",
              "      <th>Type Burger</th>\n",
              "      <th>Type Drink</th>\n",
              "      <th>Hours</th>\n",
              "    </tr>\n",
              "  </thead>\n",
              "  <tbody>\n",
              "    <tr>\n",
              "      <th>0</th>\n",
              "      <td>Beef burger</td>\n",
              "      <td>Mineral water</td>\n",
              "      <td>10</td>\n",
              "    </tr>\n",
              "    <tr>\n",
              "      <th>1</th>\n",
              "      <td>Cheese burger</td>\n",
              "      <td>Coke</td>\n",
              "      <td>10</td>\n",
              "    </tr>\n",
              "    <tr>\n",
              "      <th>2</th>\n",
              "      <td>Double cheese burger</td>\n",
              "      <td>Mineral water</td>\n",
              "      <td>10</td>\n",
              "    </tr>\n",
              "    <tr>\n",
              "      <th>3</th>\n",
              "      <td>Chicken burger</td>\n",
              "      <td>Coffe</td>\n",
              "      <td>10</td>\n",
              "    </tr>\n",
              "    <tr>\n",
              "      <th>4</th>\n",
              "      <td>Cheese burger</td>\n",
              "      <td>Coke</td>\n",
              "      <td>10</td>\n",
              "    </tr>\n",
              "  </tbody>\n",
              "</table>\n",
              "</div>"
            ],
            "text/plain": [
              "            Type Burger     Type Drink Hours\n",
              "0           Beef burger  Mineral water    10\n",
              "1         Cheese burger           Coke    10\n",
              "2  Double cheese burger  Mineral water    10\n",
              "3        Chicken burger          Coffe    10\n",
              "4         Cheese burger           Coke    10"
            ]
          },
          "metadata": {
            "tags": []
          },
          "execution_count": 79
        }
      ]
    },
    {
      "cell_type": "code",
      "metadata": {
        "id": "PYxUiITANh7i",
        "colab_type": "code",
        "outputId": "f4f678a4-856b-4746-e599-8d99e8bd4c95",
        "colab": {
          "base_uri": "https://localhost:8080/",
          "height": 119
        }
      },
      "source": [
        "df3['Hours']=pd.to_numeric(df3['Hours'])"
      ],
      "execution_count": 0,
      "outputs": [
        {
          "output_type": "stream",
          "text": [
            "/usr/local/lib/python3.6/dist-packages/ipykernel_launcher.py:1: SettingWithCopyWarning: \n",
            "A value is trying to be set on a copy of a slice from a DataFrame.\n",
            "Try using .loc[row_indexer,col_indexer] = value instead\n",
            "\n",
            "See the caveats in the documentation: http://pandas.pydata.org/pandas-docs/stable/indexing.html#indexing-view-versus-copy\n",
            "  \"\"\"Entry point for launching an IPython kernel.\n"
          ],
          "name": "stderr"
        }
      ]
    },
    {
      "cell_type": "code",
      "metadata": {
        "id": "OW508aP9W_uh",
        "colab_type": "code",
        "colab": {}
      },
      "source": [
        "arr = []\n",
        "\n",
        "for i in range(len(df3['Hours'])):\n",
        "  if df3['Hours'][i]<=13:\n",
        "    arr.append('Noon')\n",
        "  elif df3['Hours'][i]<=17:\n",
        "    arr.append('Afternoon')\n",
        "  else:\n",
        "    arr.append('Night')"
      ],
      "execution_count": 0,
      "outputs": []
    },
    {
      "cell_type": "code",
      "metadata": {
        "id": "UbbNg0PkYBJF",
        "colab_type": "code",
        "outputId": "6258c7c9-987a-425b-d3a4-a28e29fd607e",
        "colab": {
          "base_uri": "https://localhost:8080/",
          "height": 119
        }
      },
      "source": [
        "df3['Times'] = arr "
      ],
      "execution_count": 0,
      "outputs": [
        {
          "output_type": "stream",
          "text": [
            "/usr/local/lib/python3.6/dist-packages/ipykernel_launcher.py:1: SettingWithCopyWarning: \n",
            "A value is trying to be set on a copy of a slice from a DataFrame.\n",
            "Try using .loc[row_indexer,col_indexer] = value instead\n",
            "\n",
            "See the caveats in the documentation: http://pandas.pydata.org/pandas-docs/stable/indexing.html#indexing-view-versus-copy\n",
            "  \"\"\"Entry point for launching an IPython kernel.\n"
          ],
          "name": "stderr"
        }
      ]
    },
    {
      "cell_type": "code",
      "metadata": {
        "id": "QpndtuR_6EeK",
        "colab_type": "code",
        "outputId": "2d5561c6-c551-4340-8354-64e8b3670010",
        "colab": {
          "base_uri": "https://localhost:8080/",
          "height": 255
        }
      },
      "source": [
        "df3.groupby(['Hours']).size()"
      ],
      "execution_count": 0,
      "outputs": [
        {
          "output_type": "execute_result",
          "data": {
            "text/plain": [
              "Hours\n",
              "10    29\n",
              "11    40\n",
              "12    25\n",
              "13    24\n",
              "14    23\n",
              "15    21\n",
              "16    19\n",
              "17    25\n",
              "18    32\n",
              "19    29\n",
              "20    21\n",
              "21    24\n",
              "dtype: int64"
            ]
          },
          "metadata": {
            "tags": []
          },
          "execution_count": 83
        }
      ]
    },
    {
      "cell_type": "code",
      "metadata": {
        "id": "4LMXpxyp6EeX",
        "colab_type": "code",
        "colab": {}
      },
      "source": [
        "df_ganteng = df3[['Type Burger','Type Drink','Times']]"
      ],
      "execution_count": 0,
      "outputs": []
    },
    {
      "cell_type": "code",
      "metadata": {
        "id": "VZqMr5IV6Eed",
        "colab_type": "code",
        "outputId": "0e9aed6f-c510-437f-aae6-6612b782e027",
        "colab": {
          "base_uri": "https://localhost:8080/",
          "height": 204
        }
      },
      "source": [
        "df_ganteng.head()"
      ],
      "execution_count": 0,
      "outputs": [
        {
          "output_type": "execute_result",
          "data": {
            "text/html": [
              "<div>\n",
              "<style scoped>\n",
              "    .dataframe tbody tr th:only-of-type {\n",
              "        vertical-align: middle;\n",
              "    }\n",
              "\n",
              "    .dataframe tbody tr th {\n",
              "        vertical-align: top;\n",
              "    }\n",
              "\n",
              "    .dataframe thead th {\n",
              "        text-align: right;\n",
              "    }\n",
              "</style>\n",
              "<table border=\"1\" class=\"dataframe\">\n",
              "  <thead>\n",
              "    <tr style=\"text-align: right;\">\n",
              "      <th></th>\n",
              "      <th>Type Burger</th>\n",
              "      <th>Type Drink</th>\n",
              "      <th>Times</th>\n",
              "    </tr>\n",
              "  </thead>\n",
              "  <tbody>\n",
              "    <tr>\n",
              "      <th>0</th>\n",
              "      <td>Beef burger</td>\n",
              "      <td>Mineral water</td>\n",
              "      <td>Noon</td>\n",
              "    </tr>\n",
              "    <tr>\n",
              "      <th>1</th>\n",
              "      <td>Cheese burger</td>\n",
              "      <td>Coke</td>\n",
              "      <td>Noon</td>\n",
              "    </tr>\n",
              "    <tr>\n",
              "      <th>2</th>\n",
              "      <td>Double cheese burger</td>\n",
              "      <td>Mineral water</td>\n",
              "      <td>Noon</td>\n",
              "    </tr>\n",
              "    <tr>\n",
              "      <th>3</th>\n",
              "      <td>Chicken burger</td>\n",
              "      <td>Coffe</td>\n",
              "      <td>Noon</td>\n",
              "    </tr>\n",
              "    <tr>\n",
              "      <th>4</th>\n",
              "      <td>Cheese burger</td>\n",
              "      <td>Coke</td>\n",
              "      <td>Noon</td>\n",
              "    </tr>\n",
              "  </tbody>\n",
              "</table>\n",
              "</div>"
            ],
            "text/plain": [
              "            Type Burger     Type Drink Times\n",
              "0           Beef burger  Mineral water  Noon\n",
              "1         Cheese burger           Coke  Noon\n",
              "2  Double cheese burger  Mineral water  Noon\n",
              "3        Chicken burger          Coffe  Noon\n",
              "4         Cheese burger           Coke  Noon"
            ]
          },
          "metadata": {
            "tags": []
          },
          "execution_count": 85
        }
      ]
    },
    {
      "cell_type": "code",
      "metadata": {
        "id": "FMA6pZL7bYFg",
        "colab_type": "code",
        "outputId": "0514a643-9293-4b67-af56-08103d5b5dbc",
        "colab": {
          "base_uri": "https://localhost:8080/",
          "height": 420
        }
      },
      "source": [
        "fig = plt.figure(figsize=(12,6))\n",
        "plt.title('Count Plot',fontsize = 20)\n",
        "ax=sns.countplot(data=df3, x='Times', order = df3['Times'].value_counts().index)\n",
        "ax.set_xlabel('Times', fontsize = 15)\n",
        "ax.tick_params(labelsize=12)"
      ],
      "execution_count": 0,
      "outputs": [
        {
          "output_type": "display_data",
          "data": {
            "image/png": "[encoded data removed]",
            "text/plain": [
              "<Figure size 864x432 with 1 Axes>"
            ]
          },
          "metadata": {
            "tags": []
          }
        }
      ]
    },
    {
      "cell_type": "code",
      "metadata": {
        "id": "XIuVgz3KEMjK",
        "colab_type": "code",
        "outputId": "bce2495c-e00f-4242-eb74-5c436e1e1ff0",
        "colab": {
          "base_uri": "https://localhost:8080/",
          "height": 420
        }
      },
      "source": [
        "fig = plt.figure(figsize=(12,6))\n",
        "plt.title('Count Plot',fontsize = 20)\n",
        "ax=sns.countplot(data=df, x='Type Burger', order = df['Type Burger'].value_counts().index)\n",
        "ax.set_xlabel('Type Burger', fontsize = 15)\n",
        "ax.tick_params(labelsize=12)"
      ],
      "execution_count": 0,
      "outputs": [
        {
          "output_type": "display_data",
          "data": {
            "image/png": "[encoded data removed]",
            "text/plain": [
              "<Figure size 864x432 with 1 Axes>"
            ]
          },
          "metadata": {
            "tags": []
          }
        }
      ]
    },
    {
      "cell_type": "code",
      "metadata": {
        "id": "g_ptIWYfHi3v",
        "colab_type": "code",
        "outputId": "0df46750-856c-4ef8-899f-e7f30b7aaf9e",
        "colab": {
          "base_uri": "https://localhost:8080/",
          "height": 420
        }
      },
      "source": [
        "fig = plt.figure(figsize=(12,6))\n",
        "plt.title('Count Plot',fontsize = 20)\n",
        "ax=sns.countplot(data=df, x='Type Drink', order = df['Type Drink'].value_counts().index)\n",
        "ax.set_xlabel('Type Drink', fontsize = 15)\n",
        "ax.tick_params(labelsize=12)"
      ],
      "execution_count": 0,
      "outputs": [
        {
          "output_type": "display_data",
          "data": {
            "image/png": "[encoded data removed]",
            "text/plain": [
              "<Figure size 864x432 with 1 Axes>"
            ]
          },
          "metadata": {
            "tags": []
          }
        }
      ]
    },
    {
      "cell_type": "code",
      "metadata": {
        "id": "yoqt5a2e6Eem",
        "colab_type": "code",
        "outputId": "7238f23b-5a27-4020-8696-21d7dbc729ce",
        "colab": {
          "base_uri": "https://localhost:8080/",
          "height": 34
        }
      },
      "source": [
        "df_ganteng['Type Drink'].unique()"
      ],
      "execution_count": 0,
      "outputs": [
        {
          "output_type": "execute_result",
          "data": {
            "text/plain": [
              "array(['Mineral water', 'Coke', 'Coffe', 'None'], dtype=object)"
            ]
          },
          "metadata": {
            "tags": []
          },
          "execution_count": 89
        }
      ]
    },
    {
      "cell_type": "code",
      "metadata": {
        "id": "8MgqJup76Ees",
        "colab_type": "code",
        "outputId": "d07e1418-9fc0-4013-81a0-11cd5061c690",
        "colab": {
          "base_uri": "https://localhost:8080/",
          "height": 34
        }
      },
      "source": [
        "df_ganteng.shape"
      ],
      "execution_count": 0,
      "outputs": [
        {
          "output_type": "execute_result",
          "data": {
            "text/plain": [
              "(312, 3)"
            ]
          },
          "metadata": {
            "tags": []
          },
          "execution_count": 90
        }
      ]
    },
    {
      "cell_type": "code",
      "metadata": {
        "id": "HOmsoYzL6Ee0",
        "colab_type": "code",
        "colab": {}
      },
      "source": [
        "records = []\n",
        "for i in range(len(df_ganteng)):\n",
        "    records.append([str(df_ganteng.values[i,j]) for j in range(0, 3)])"
      ],
      "execution_count": 0,
      "outputs": []
    },
    {
      "cell_type": "code",
      "metadata": {
        "id": "9WsDCkKE6Ee6",
        "colab_type": "code",
        "colab": {}
      },
      "source": [
        "association_rules = apriori(records, min_support=0.0045, min_confidence=0.7, min_lift=1, min_length=1)\n",
        "association_results = list(association_rules)"
      ],
      "execution_count": 0,
      "outputs": []
    },
    {
      "cell_type": "code",
      "metadata": {
        "id": "usGJA2eF6Ee-",
        "colab_type": "code",
        "outputId": "fee2b47f-1e02-471f-c808-5dc0e550925e",
        "colab": {
          "base_uri": "https://localhost:8080/",
          "height": 173
        }
      },
      "source": [
        "association_results"
      ],
      "execution_count": 0,
      "outputs": [
        {
          "output_type": "execute_result",
          "data": {
            "text/plain": [
              "[RelationRecord(items=frozenset({'Coke', 'Cheese burger'}), support=0.1794871794871795, ordered_statistics=[OrderedStatistic(items_base=frozenset({'Cheese burger'}), items_add=frozenset({'Coke'}), confidence=1.0, lift=4.521739130434783), OrderedStatistic(items_base=frozenset({'Coke'}), items_add=frozenset({'Cheese burger'}), confidence=0.8115942028985508, lift=4.521739130434783)]),\n",
              " RelationRecord(items=frozenset({'None', 'Chicken burger'}), support=0.11217948717948718, ordered_statistics=[OrderedStatistic(items_base=frozenset({'None'}), items_add=frozenset({'Chicken burger'}), confidence=0.7608695652173914, lift=3.343539497856706)]),\n",
              " RelationRecord(items=frozenset({'Coke', 'Cheese burger', 'Afternoon'}), support=0.04487179487179487, ordered_statistics=[OrderedStatistic(items_base=frozenset({'Cheese burger', 'Afternoon'}), items_add=frozenset({'Coke'}), confidence=1.0, lift=4.521739130434783), OrderedStatistic(items_base=frozenset({'Coke', 'Afternoon'}), items_add=frozenset({'Cheese burger'}), confidence=0.7777777777777778, lift=4.333333333333333)]),\n",
              " RelationRecord(items=frozenset({'None', 'Chicken burger', 'Afternoon'}), support=0.035256410256410256, ordered_statistics=[OrderedStatistic(items_base=frozenset({'None', 'Afternoon'}), items_add=frozenset({'Chicken burger'}), confidence=0.7857142857142857, lift=3.4527162977867203)]),\n",
              " RelationRecord(items=frozenset({'Night', 'Coke', 'Cheese burger'}), support=0.0673076923076923, ordered_statistics=[OrderedStatistic(items_base=frozenset({'Night', 'Cheese burger'}), items_add=frozenset({'Coke'}), confidence=1.0, lift=4.521739130434783), OrderedStatistic(items_base=frozenset({'Coke', 'Night'}), items_add=frozenset({'Cheese burger'}), confidence=0.8076923076923077, lift=4.5)]),\n",
              " RelationRecord(items=frozenset({'Noon', 'Coke', 'Cheese burger'}), support=0.0673076923076923, ordered_statistics=[OrderedStatistic(items_base=frozenset({'Noon', 'Cheese burger'}), items_add=frozenset({'Coke'}), confidence=1.0, lift=4.521739130434783), OrderedStatistic(items_base=frozenset({'Noon', 'Coke'}), items_add=frozenset({'Cheese burger'}), confidence=0.8399999999999999, lift=4.679999999999999)]),\n",
              " RelationRecord(items=frozenset({'Night', 'Chicken burger', 'None'}), support=0.035256410256410256, ordered_statistics=[OrderedStatistic(items_base=frozenset({'Night', 'None'}), items_add=frozenset({'Chicken burger'}), confidence=0.7333333333333333, lift=3.2225352112676053)]),\n",
              " RelationRecord(items=frozenset({'Noon', 'None', 'Chicken burger'}), support=0.041666666666666664, ordered_statistics=[OrderedStatistic(items_base=frozenset({'Noon', 'None'}), items_add=frozenset({'Chicken burger'}), confidence=0.7647058823529411, lift=3.3603976801988398)])]"
            ]
          },
          "metadata": {
            "tags": []
          },
          "execution_count": 113
        }
      ]
    },
    {
      "cell_type": "code",
      "metadata": {
        "id": "MiE-5nRr6EfC",
        "colab_type": "code",
        "outputId": "4e9a8dd0-ee05-4acb-8ee6-0528a531416a",
        "colab": {
          "base_uri": "https://localhost:8080/",
          "height": 697
        }
      },
      "source": [
        "for item in association_results:\n",
        "\n",
        "    # first index of the inner list\n",
        "    # Contains base item and add item\n",
        "    pair = item[0] \n",
        "    items1 = [x for x in pair]\n",
        "    \n",
        "    if len(items1) == 2:\n",
        "        print(\"Rule: \" + items1[0] + \" -> \" + items1[1])\n",
        "    else:\n",
        "        print(\"Rule: \" + items1[0] + \" -> \" + items1[1] + \" -> \" + items1[2])\n",
        "\n",
        "    #second index of the inner list\n",
        "    print(\"Support: \" + str(item[1]))\n",
        "\n",
        "    #third index of the list located at 0th\n",
        "    #of the third index of the inner list\n",
        "\n",
        "    print(\"Confidence: \" + str(item[2][0][2]))\n",
        "    print(\"Lift: \" + str(item[2][0][3]))\n",
        "    print(\"=====================================\")"
      ],
      "execution_count": 0,
      "outputs": [
        {
          "output_type": "stream",
          "text": [
            "Rule: Coke -> Cheese burger\n",
            "Support: 0.1794871794871795\n",
            "Confidence: 1.0\n",
            "Lift: 4.521739130434783\n",
            "=====================================\n",
            "Rule: None -> Chicken burger\n",
            "Support: 0.11217948717948718\n",
            "Confidence: 0.7608695652173914\n",
            "Lift: 3.343539497856706\n",
            "=====================================\n",
            "Rule: Coke -> Cheese burger -> Afternoon\n",
            "Support: 0.04487179487179487\n",
            "Confidence: 1.0\n",
            "Lift: 4.521739130434783\n",
            "=====================================\n",
            "Rule: None -> Chicken burger -> Afternoon\n",
            "Support: 0.035256410256410256\n",
            "Confidence: 0.7857142857142857\n",
            "Lift: 3.4527162977867203\n",
            "=====================================\n",
            "Rule: Night -> Coke -> Cheese burger\n",
            "Support: 0.0673076923076923\n",
            "Confidence: 1.0\n",
            "Lift: 4.521739130434783\n",
            "=====================================\n",
            "Rule: Noon -> Coke -> Cheese burger\n",
            "Support: 0.0673076923076923\n",
            "Confidence: 1.0\n",
            "Lift: 4.521739130434783\n",
            "=====================================\n",
            "Rule: Night -> Chicken burger -> None\n",
            "Support: 0.035256410256410256\n",
            "Confidence: 0.7333333333333333\n",
            "Lift: 3.2225352112676053\n",
            "=====================================\n",
            "Rule: Noon -> None -> Chicken burger\n",
            "Support: 0.041666666666666664\n",
            "Confidence: 0.7647058823529411\n",
            "Lift: 3.3603976801988398\n",
            "=====================================\n"
          ],
          "name": "stdout"
        }
      ]
    }
  ]
}